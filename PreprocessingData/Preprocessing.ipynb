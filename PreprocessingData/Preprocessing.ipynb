{
 "cells": [
  {
   "cell_type": "code",
   "execution_count": 58,
   "metadata": {},
   "outputs": [],
   "source": [
    "import re\n",
    "import csv\n",
    "import pickle\n",
    "import pandas as pd\n",
    "import numpy as np\n",
    "from sklearn.feature_extraction.text import TfidfVectorizer\n",
    "#from sklearn.feature_extraction.text import CountVectorizer\n",
    "from sklearn.metrics import roc_auc_score\n",
    "#from sklearn.linear_model import LogisticRegression\n",
    "from sklearn.naive_bayes import MultinomialNB\n",
    "from sklearn.metrics import confusion_matrix\n",
    "from sklearn.metrics import accuracy_score\n",
    "from wordcloud import WordCloud,STOPWORDS\n",
    "import matplotlib.pyplot as plt\n",
    "%matplotlib inline"
   ]
  },
  {
   "cell_type": "code",
   "execution_count": 59,
   "metadata": {},
   "outputs": [],
   "source": [
    "#start processing data twitter\n",
    "def processTweet(tweet):\n",
    "    # process the tweets\n",
    "    #Convert to lower case\n",
    "    tweet = tweet.lower()\n",
    "    #Convert www.* or https?://* to URL\n",
    "    tweet = re.sub('((www\\.[^\\s]+)|(https?://[^\\s]+))','URL',tweet)\n",
    "    #Convert @username to AT_USER\n",
    "    tweet = re.sub('@[^\\s]+','AT_USER',tweet)\n",
    "    #Remove additional white spaces\n",
    "    tweet = re.sub('[\\s]+', ' ', tweet)\n",
    "    #Replace #word with word\n",
    "    tweet = re.sub(r'#([^\\s]+)', r'\\1', tweet)\n",
    "    #trim\n",
    "    tweet = tweet.strip('\\'\"')\n",
    "#     print(tweet)\n",
    "#     print(' ')\n",
    "    return tweet\n",
    "#end"
   ]
  },
  {
   "cell_type": "code",
   "execution_count": 60,
   "metadata": {},
   "outputs": [],
   "source": [
    "# Coba = \"Dana Desa dpt meningkatkan infrastruktur di desa menuju desa mandiri dn sejahtera. #JokowiMembangunDesa. @jokowi.Ã¢Â€Â¦ https://t.co/uSR71vyuhB\"\n",
    "# hasil = processTweet(Coba)\n",
    "# print(hasil)"
   ]
  },
  {
   "cell_type": "code",
   "execution_count": 61,
   "metadata": {},
   "outputs": [],
   "source": [
    "#initialize stopWords\n",
    "stopWords = []\n",
    "\n",
    "#start replaceTwoOrMore\n",
    "def replaceTwoOrMore(s):\n",
    "    #look for 2 or more repetitions of character and replace with the character itself\n",
    "    pattern = re.compile(r\"(.)\\1{1,}\", re.DOTALL)\n",
    "    return pattern.sub(r\"\\1\\1\", s)\n",
    "# end"
   ]
  },
  {
   "cell_type": "code",
   "execution_count": 62,
   "metadata": {},
   "outputs": [],
   "source": [
    "#start getStopWordList\n",
    "def getStopWordList(stopWordListFileName):\n",
    "    #read the stopwords file and build a list\n",
    "    stopWords = []\n",
    "#     stopWords.append('AT_USER')\n",
    "#     stopWords.append('URL')\n",
    "\n",
    "    fp = open(stopWordListFileName, 'r')\n",
    "    line = fp.readline()\n",
    "    while line:\n",
    "        word = line.strip()\n",
    "        stopWords.append(word)\n",
    "        line = fp.readline()\n",
    "    fp.close()\n",
    "    return stopWords\n",
    "#end"
   ]
  },
  {
   "cell_type": "code",
   "execution_count": 63,
   "metadata": {},
   "outputs": [],
   "source": [
    "#start getfeatureVector\n",
    "def getFeatureVector(tweet):\n",
    "    featureVector = []\n",
    "    # tweet=stemmer.stem(tweet)\n",
    "    #split tweet into words\n",
    "    words = tweet.split()\n",
    "    for w in words:\n",
    "        #replace two or more with two occurrences\n",
    "        w = replaceTwoOrMore(w)\n",
    "        #strip punctuation\n",
    "        w = w.strip('\\'\"?,.')\n",
    "        #check if the word stats with an alphabet\n",
    "        val = re.search(r\"^[a-zA-Z][a-zA-Z0-9]*$\", w)\n",
    "        #ignore if it is a stop word\n",
    "        if(w in stopWords or val is None):\n",
    "            continue\n",
    "        else:\n",
    "           featureVector.append(w.lower())\n",
    "#     print(featureVector)\n",
    "#     print(' ')\n",
    "    return featureVector\n",
    "#end"
   ]
  },
  {
   "cell_type": "code",
   "execution_count": 64,
   "metadata": {},
   "outputs": [],
   "source": [
    "#start replace singkatan/kata alay\n",
    "def translator(tweet):\n",
    "    j = 0\n",
    "    for kata in tweet:\n",
    "        with open('singkatan.txt', 'r') as csvfile:\n",
    "            # Reading file as CSV with delimiter as \"=\", so that abbreviation are stored in row[0] and phrases in row[1]\n",
    "            dataFromFile = csv.reader(csvfile, delimiter=\"=\")\n",
    "            for row in dataFromFile:\n",
    "                # Check if selected word matches short forms[LHS] in text file.\n",
    "                if kata == row[0]:\n",
    "                    # If match found replace it with its appropriate phrase in text file.\n",
    "                    tweet[j] = row[1]\n",
    "            csvfile.close()\n",
    "        j = j + 1\n",
    "#     print(' '.join(tweet))\n",
    "#     print('')\n",
    "    return tweet    \n",
    "#end process"
   ]
  },
  {
   "cell_type": "code",
   "execution_count": 65,
   "metadata": {},
   "outputs": [],
   "source": [
    "#Read the tweets one by one and process it\n",
    "# df = pd.read_csv('jok.csv', index_col = False, encoding = \"ISO-8859-1\" )\n",
    "# line = df['Mentions']\n",
    "st = open('konjungsi.csv', 'r')\n",
    "stopWords = getStopWordList('konjungsi.csv')\n",
    "result_list = []"
   ]
  },
  {
   "cell_type": "code",
   "execution_count": 66,
   "metadata": {},
   "outputs": [],
   "source": [
    "coba = \"Dana Desa dpt meningkatkan infrastruktur di desa menuju desa mandiri dn sejahtera. #JokowiMembangunDesa. @jokowi.Ã¢Â€Â¦ https://t.co/uSR71vyuhB\"\n",
    "# hasil = processTweet(Coba)\n",
    "# print(hasil)"
   ]
  },
  {
   "cell_type": "code",
   "execution_count": 70,
   "metadata": {},
   "outputs": [
    {
     "name": "stdout",
     "output_type": "stream",
     "text": [
      "[['dana', 'desa', 'dapat', 'meningkatkan', 'infrastruktur', 'desa', 'desa', 'mandiri', 'dan', 'sejahtera', 'jokowimembangundesa'], ['dana', 'desa', 'dapat', 'meningkatkan', 'infrastruktur', 'desa', 'desa', 'mandiri', 'dan', 'sejahtera', 'jokowimembangundesa'], ['dana', 'desa', 'dapat', 'meningkatkan', 'infrastruktur', 'desa', 'desa', 'mandiri', 'dan', 'sejahtera', 'jokowimembangundesa'], ['dana', 'desa', 'dapat', 'meningkatkan', 'infrastruktur', 'desa', 'desa', 'mandiri', 'dan', 'sejahtera', 'jokowimembangundesa']]\n"
     ]
    }
   ],
   "source": [
    "processedTweet = processTweet(coba)\n",
    "# print(processedTweet)\n",
    "featureVector = getFeatureVector(processedTweet)\n",
    "# print(featureVector)\n",
    "replaceAbb = translator(featureVector)\n",
    "# print(replaceAbb)\n",
    "result_list.append(replaceAbb)   \n",
    "# result_list.append(temp)\n",
    "# line = fp.readline()\n",
    "# end loop\n",
    "print(result_list)"
   ]
  },
  {
   "cell_type": "code",
   "execution_count": 10,
   "metadata": {},
   "outputs": [
    {
     "ename": "NameError",
     "evalue": "name 'result_list' is not defined",
     "output_type": "error",
     "traceback": [
      "\u001b[1;31m---------------------------------------------------------------------------\u001b[0m",
      "\u001b[1;31mNameError\u001b[0m                                 Traceback (most recent call last)",
      "\u001b[1;32m<ipython-input-10-a6f35a8d8741>\u001b[0m in \u001b[0;36m<module>\u001b[1;34m\u001b[0m\n\u001b[0;32m      1\u001b[0m \u001b[0mtempStr\u001b[0m \u001b[1;33m=\u001b[0m \u001b[1;33m[\u001b[0m\u001b[1;33m]\u001b[0m\u001b[1;33m\u001b[0m\u001b[1;33m\u001b[0m\u001b[0m\n\u001b[1;32m----> 2\u001b[1;33m \u001b[1;32mfor\u001b[0m \u001b[0mbaris\u001b[0m \u001b[1;32min\u001b[0m \u001b[0mrange\u001b[0m\u001b[1;33m(\u001b[0m\u001b[1;36m0\u001b[0m\u001b[1;33m,\u001b[0m \u001b[0mlen\u001b[0m\u001b[1;33m(\u001b[0m\u001b[0mresult_list\u001b[0m\u001b[1;33m)\u001b[0m\u001b[1;33m)\u001b[0m\u001b[1;33m:\u001b[0m\u001b[1;33m\u001b[0m\u001b[1;33m\u001b[0m\u001b[0m\n\u001b[0m\u001b[0;32m      3\u001b[0m     \u001b[0mtempo\u001b[0m\u001b[1;33m=\u001b[0m\u001b[1;34m\"\"\u001b[0m\u001b[1;33m\u001b[0m\u001b[1;33m\u001b[0m\u001b[0m\n\u001b[0;32m      4\u001b[0m     \u001b[1;32mfor\u001b[0m \u001b[0mkolom\u001b[0m \u001b[1;32min\u001b[0m \u001b[0mrange\u001b[0m\u001b[1;33m(\u001b[0m\u001b[1;36m0\u001b[0m\u001b[1;33m,\u001b[0m\u001b[0mlen\u001b[0m\u001b[1;33m(\u001b[0m\u001b[0mresult_list\u001b[0m\u001b[1;33m[\u001b[0m\u001b[0mbaris\u001b[0m\u001b[1;33m]\u001b[0m\u001b[1;33m)\u001b[0m\u001b[1;33m)\u001b[0m\u001b[1;33m:\u001b[0m\u001b[1;33m\u001b[0m\u001b[1;33m\u001b[0m\u001b[0m\n\u001b[0;32m      5\u001b[0m         \u001b[0mtempo\u001b[0m \u001b[1;33m=\u001b[0m \u001b[0mtempo\u001b[0m\u001b[1;33m+\u001b[0m\u001b[1;34m\" \"\u001b[0m\u001b[1;33m+\u001b[0m\u001b[0mresult_list\u001b[0m\u001b[1;33m[\u001b[0m\u001b[0mbaris\u001b[0m\u001b[1;33m]\u001b[0m\u001b[1;33m[\u001b[0m\u001b[0mkolom\u001b[0m\u001b[1;33m]\u001b[0m\u001b[1;33m\u001b[0m\u001b[1;33m\u001b[0m\u001b[0m\n",
      "\u001b[1;31mNameError\u001b[0m: name 'result_list' is not defined"
     ]
    }
   ],
   "source": [
    "tempStr = []\n",
    "for baris in range(0, len(result_list)):\n",
    "    tempo=\"\"\n",
    "    for kolom in range(0,len(result_list[baris])):\n",
    "        tempo = tempo+\" \"+result_list[baris][kolom]\n",
    "    tempStr.append(tempo)\n",
    "# print(type(tempStr))"
   ]
  },
  {
   "cell_type": "code",
   "execution_count": null,
   "metadata": {},
   "outputs": [],
   "source": [
    "tempData = df['Mentions']\n",
    "for x in range(0,len(tempStr)):\n",
    "    df['Mentions'][x] = tempStr[x]\n",
    "#     tempData.replace(x,tempStr[x])\n",
    "\n",
    "print(df['Mentions'])"
   ]
  }
 ],
 "metadata": {
  "kernelspec": {
   "display_name": "Python 3",
   "language": "python",
   "name": "python3"
  },
  "language_info": {
   "codemirror_mode": {
    "name": "ipython",
    "version": 3
   },
   "file_extension": ".py",
   "mimetype": "text/x-python",
   "name": "python",
   "nbconvert_exporter": "python",
   "pygments_lexer": "ipython3",
   "version": "3.7.1"
  }
 },
 "nbformat": 4,
 "nbformat_minor": 2
}
